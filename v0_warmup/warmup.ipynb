{
 "cells": [
  {
   "cell_type": "markdown",
   "id": "0f68ea0c-9249-4fe5-ac64-758f4da2d347",
   "metadata": {},
   "source": [
    "A few guidelines:\n",
    "\n",
    "    The tasks can be solved in various ways; do it in a way that will show off your skills.\n",
    "    Feel free to ask for clarifications\n",
    "    The deadline for submission is two weeks or sooner\n",
    "    The tasks can be solved in a variety of ways, do it in a way that will show off your skills.\n",
    "    Feel free to make reasonable assumptions or ask clarifying questions\n",
    "    Deliverable is a Github repo and a direct web link to try the solution.\n",
    "    You have one chance to leave first impression - try to build something that is intuitive, easy to run and has readable code\n",
    "\n",
    "Thank you for participating. Good luck, and have fun!\n",
    "Warmup task - Reranking Hacker News\n",
    "\n",
    "Build an API that given user submitted bio, returns top 500 stories from Hacker News front page (use their API for this), ranked in the order of relevancy to user's interests.\n",
    "\n",
    "Example input:\n",
    "I am a theoretical biologist, interested in disease ecology. My tools are R, clojure , compartmentalism disease modeling, and statistical GAM models, using a variety of data layers (geophysical, reconstructions, climate, biodiversity, land use). Besides that I am interested in tech applied to the a subset of the current problems of the world (agriculture / biodiversity / conservation / forecasting), development of third world countries and AI, large language models.\n",
    "\n",
    "Output:\n",
    "Top 500 items from Hacker News, ranked in the order of relevance to the user.\n",
    "\n",
    "The solution should optimize for development time - what is the simplest/quickest way to do this that you can think of? Spend no more than 4 hours on this.\n",
    "Deliverables\n",
    "\n",
    "    GitHub Repo\n",
    "    Link to a live demo containing a text area for the input and a button to submit. The results will be shown below.\n",
    "    Explain your thought process and decisions you made during creation of the solution."
   ]
  },
  {
   "cell_type": "markdown",
   "id": "16e48fee-92d5-4de3-917d-86d9923c66a8",
   "metadata": {},
   "source": [
    "# Database Setup:"
   ]
  },
  {
   "cell_type": "code",
   "execution_count": 1,
   "id": "25bb7d89-856c-43bf-8680-765bb50d25da",
   "metadata": {},
   "outputs": [],
   "source": [
    "import sqlite3\n",
    "db = sqlite3.connect(\"hackernews.db\")"
   ]
  },
  {
   "cell_type": "code",
   "execution_count": 2,
   "id": "0db250ce-b0dd-47ef-8d54-17dc29c97696",
   "metadata": {},
   "outputs": [],
   "source": [
    "from dataclasses import asdict, dataclass\n",
    "\n",
    "@dataclass\n",
    "class HNStory:\n",
    "    submitter: str\n",
    "    descendant_count: int\n",
    "    story_id: int\n",
    "    score: int\n",
    "    time: int\n",
    "    title: str\n",
    "    url: str\n",
    "\n",
    "    @classmethod\n",
    "    def from_api_json(cls, json):\n",
    "        json['submitter'] = json.pop('by')\n",
    "        json['story_id'] = json.pop('id')\n",
    "        json['descendant_count'] = json.pop('descendants')\n",
    "        try:\n",
    "            json.pop('kids')\n",
    "        except:\n",
    "            pass\n",
    "        try:\n",
    "            json.pop('type')\n",
    "        except:\n",
    "            pass\n",
    "        return cls(**json)\n",
    "\n",
    "db.execute(\"CREATE TABLE IF NOT EXISTS hn(story_id INTEGER PRIMARY KEY, title TEXT, url TEXT, time INTEGER, submitter TEXT, score INTEGER, descendant_count INTEGER);\")\n",
    "db.row_factory = sqlite3.Row  # So we get back dicts.\n",
    "\n",
    "# If we set the row factory to a dict factory like this then we can automatically get back stories, but it will cause problems when we filter:\n",
    "#def dict_factory(cursor, row):\n",
    "#    fields = [column[0] for column in cursor.description]\n",
    "#    return HNStory(**{key: value for key, value in zip(fields, row)})\n",
    "#db.row_factory = dict_factory\n",
    "        \n",
    "# If we want to do a fulltext search later we can do this, but it won't work on MacOS.\n",
    "# By default, MacOS will block extensions.  Make sure you've got a PyEnv or non-OS Build if you see \"AttributeError: 'sqlite3.Connection' object has no attribute 'enable_load_extension'\"\n",
    "#db.enable_load_extension(True)\n",
    "#db.execute(\"select load_extension('./fts3.so')\") OR con.load_extension(\"./fts3.so\")\n",
    "#db.enable_load_extension(False)\n",
    "#db.execute(\"CREATE VIRTUAL TABLE recipe USING fts3(name, ingredients)\")\n",
    "#db.executescript(\"\"\"INSERT INTO recipe (name, ingredients) VALUES('broccoli stew', 'broccoli peppers cheese tomatoes'); INSERT INTO recipe (name, ingredients) VALUES('pumpkin stew', 'pumpkin onions garlic celery');\"\"\")\n",
    "#for row in con.execute(\"SELECT rowid, name, ingredients FROM recipe WHERE name MATCH 'pie'\"):\n",
    "# See https://docs.python.org/3/library/sqlite3.html#sqlite3.Connection.enable_load_extension\n",
    "\n",
    "# For SQLite Vec: https://github.com/asg017/sqlite-vec"
   ]
  },
  {
   "cell_type": "markdown",
   "id": "00f73e8b-4f86-4a5b-bd4e-435cbbcf12b4",
   "metadata": {},
   "source": [
    "# Data Ingest:"
   ]
  },
  {
   "cell_type": "code",
   "execution_count": 3,
   "id": "180d901b-66ab-48b9-8578-7d6bb9f44752",
   "metadata": {},
   "outputs": [],
   "source": [
    "# Pulling HN results:\n",
    "import requests\n",
    "import time\n",
    "from datetime import datetime, timedelta\n",
    "\n",
    "# We could do this async, but I don't want to hammer the server.  We can get rate limited pretty easily.\n",
    "# TODO: check for stories we've already fetched.\n",
    "# TODO: reuse connections so we're not bombarding HN with lots of separate connection opens.\n",
    "# TODO: use async to pull the requests in parallel, limiting the number of workers.\n",
    "def fetch_hn(story_limit: int = 500, rate_limit_seconds: float = 0.1, backoff_failure_seconds: float = 1.0):\n",
    "    id_request = requests.get(\"https://hacker-news.firebaseio.com/v0/topstories.json\")\n",
    "    if not id_request.ok:\n",
    "        raise Exception(\"Failed to fetch HN results: {out.content}\")\n",
    "    story_ids = id_request.json()\n",
    "    last_story_fetched = datetime.now() - timedelta(seconds=rate_limit_seconds)\n",
    "    for story_id in story_ids:\n",
    "        retry_count = 3\n",
    "        story_json = None\n",
    "        while retry_count > 0 and story_json is None:\n",
    "            try:\n",
    "                time_since_last_fetch = (datetime.now() - last_story_fetched).total_seconds()\n",
    "                time.sleep(max(0, rate_limit_seconds - time_since_last_fetch))\n",
    "                content_request = requests.get(f\"https://hacker-news.firebaseio.com/v0/item/{story_id}.json\")\n",
    "                story_json = HNStory.from_api_json(content_request.json())\n",
    "                last_story_fetched = datetime.now()\n",
    "            except Exception as e:\n",
    "                print(f\"Failed to grab story id {story_id}: {e}\")\n",
    "                retry_count -= 1\n",
    "                time.sleep(backoff_failure_seconds)\n",
    "        if story_json is not None:\n",
    "            yield story_json\n",
    "            story_limit -= 1\n",
    "        if story_limit <= 0:\n",
    "            break"
   ]
  },
  {
   "cell_type": "code",
   "execution_count": 4,
   "id": "2abd88f8-cec4-449e-b7a8-0f9acb9f0748",
   "metadata": {},
   "outputs": [
    {
     "name": "stdout",
     "output_type": "stream",
     "text": [
      "HNStory(submitter='mfiguiere', descendant_count=56, story_id=43538919, score=115, time=1743449751, title='JEP Draft: Prepare to Make Final Mean Final', url='https://openjdk.org/jeps/8349536')\n"
     ]
    }
   ],
   "source": [
    "hn_generator = fetch_hn()\n",
    "for story in hn_generator:\n",
    "    print(story)\n",
    "    break"
   ]
  },
  {
   "cell_type": "code",
   "execution_count": 35,
   "id": "46bdf07b-6bb2-4637-8160-5baadabadfe0",
   "metadata": {},
   "outputs": [],
   "source": [
    "def refresh_database(connection, hn_generator = None):\n",
    "    if hn_generator is None:\n",
    "        hn_generator = fetch_hn()\n",
    "    for story in hn_generator:\n",
    "        # If we didn't have to wait on network latency this would be more efficient:\n",
    "        # cur.executemany(\"INSERT INTO data VALUES(?)\", rows)\n",
    "        print(f\"Fetched {story}\")\n",
    "        #db.execute(\"INSERT INTO hn VALUES(:story_id, :title, :url, :time, :submitter, :score, :descendant_count)\", (asdict(story),))\n",
    "        db.execute(\"INSERT INTO hn VALUES(:story_id, :title, :url, :time, :submitter, :score, :descendant_count)\", (story.story_id, story.title, story.url, story.time, story.submitter, story.score, story.descendant_count,))\n",
    "    db.commit()"
   ]
  },
  {
   "cell_type": "code",
   "execution_count": 36,
   "id": "c40717c3-959e-4756-9f01-d39cbaa46e74",
   "metadata": {
    "scrolled": true
   },
   "outputs": [
    {
     "name": "stdout",
     "output_type": "stream",
     "text": [
      "Fetched HNStory(submitter='mfiguiere', descendant_count=59, story_id=43538919, score=124, time=1743449751, title='JEP Draft: Prepare to Make Final Mean Final', url='https://openjdk.org/jeps/8349536')\n",
      "Fetched HNStory(submitter='jedeusus', descendant_count=9, story_id=43539585, score=68, time=1743452998, title='Go Optimization Guide', url='https://goperf.dev/')\n",
      "Fetched HNStory(submitter='robin_reala', descendant_count=66, story_id=43533362, score=503, time=1743417597, title='The demoscene as a UNESCO heritage in Sweden', url='https://www.goto80.com/the-demoscene-as-a-unesco-heritage-in-sweden')\n",
      "Fetched HNStory(submitter='leotravis10', descendant_count=19, story_id=43538192, score=90, time=1743446137, title=\"Notes on the Pentium's Microcode Circuitry\", url='https://www.righto.com/2025/03/pentium-microcde-rom-circuitry.html')\n",
      "Fetched HNStory(submitter='bookofjoe', descendant_count=28, story_id=43511529, score=78, time=1743208287, title='The Guardian flourishes without a paywall', url='https://nymag.com/intelligencer/article/how-the-guardian-us-flourishes-without-a-paywall.html')\n",
      "Fetched HNStory(submitter='tantalor', descendant_count=160, story_id=43538113, score=340, time=1743445683, title='Honey has now lost 4M Chrome users after shady tactics were revealed', url='https://9to5google.com/2025/03/31/honey-extension-users-dropped-chrome-march-2025/')\n",
      "Fetched HNStory(submitter='cf100clunk', descendant_count=272, story_id=43536146, score=180, time=1743434823, title='MLB says Yankees\\' new \"torpedo bats\" are legal and likely coming', url='https://thelibertyline.com/2025/03/30/yankees-new-torpedo-bat/')\n",
      "Failed to grab story id 43537505: HNStory.__init__() got an unexpected keyword argument 'text'\n",
      "Failed to grab story id 43537505: HNStory.__init__() got an unexpected keyword argument 'text'\n",
      "Failed to grab story id 43537505: HNStory.__init__() got an unexpected keyword argument 'text'\n",
      "Fetched HNStory(submitter='charlieirish', descendant_count=52, story_id=43535943, score=148, time=1743433839, title='Turso SQLite Offline Sync Public Beta', url='https://turso.tech/blog/turso-offline-sync-public-beta')\n",
      "Fetched HNStory(submitter='freetonik', descendant_count=13, story_id=43515622, score=61, time=1743256973, title='Show HN: I made a little puzzle game about a rogue chess knight', url='https://knightride.rakhim.org/')\n",
      "Fetched HNStory(submitter='ilikepi', descendant_count=184, story_id=43535688, score=299, time=1743432582, title='It’s not mold, it’s calcium lactate (2018)', url='https://www.thephcheese.com/theres-white-stuff-growing-on-your-cheese-that-isnt-mold')\n"
     ]
    }
   ],
   "source": [
    "refresh_database(db)"
   ]
  },
  {
   "cell_type": "code",
   "execution_count": 37,
   "id": "80c5b17d-a886-4cb0-ab29-0ce980b75b63",
   "metadata": {},
   "outputs": [
    {
     "name": "stdout",
     "output_type": "stream",
     "text": [
      "{'story_id': 43539585, 'title': 'Go Optimization Guide', 'url': 'https://goperf.dev/', 'time': 1743452998, 'submitter': 'jedeusus', 'score': 68, 'descendant_count': 9}\n",
      "HNStory(submitter='jedeusus', descendant_count=9, story_id=43539585, score=68, time=1743452998, title='Go Optimization Guide', url='https://goperf.dev/')\n",
      "{'story_id': 43538919, 'title': 'JEP Draft: Prepare to Make Final Mean Final', 'url': 'https://openjdk.org/jeps/8349536', 'time': 1743449751, 'submitter': 'mfiguiere', 'score': 124, 'descendant_count': 59}\n",
      "HNStory(submitter='mfiguiere', descendant_count=59, story_id=43538919, score=124, time=1743449751, title='JEP Draft: Prepare to Make Final Mean Final', url='https://openjdk.org/jeps/8349536')\n",
      "{'story_id': 43538192, 'title': \"Notes on the Pentium's Microcode Circuitry\", 'url': 'https://www.righto.com/2025/03/pentium-microcde-rom-circuitry.html', 'time': 1743446137, 'submitter': 'leotravis10', 'score': 90, 'descendant_count': 19}\n",
      "HNStory(submitter='leotravis10', descendant_count=19, story_id=43538192, score=90, time=1743446137, title=\"Notes on the Pentium's Microcode Circuitry\", url='https://www.righto.com/2025/03/pentium-microcde-rom-circuitry.html')\n",
      "{'story_id': 43538113, 'title': 'Honey has now lost 4M Chrome users after shady tactics were revealed', 'url': 'https://9to5google.com/2025/03/31/honey-extension-users-dropped-chrome-march-2025/', 'time': 1743445683, 'submitter': 'tantalor', 'score': 340, 'descendant_count': 160}\n",
      "HNStory(submitter='tantalor', descendant_count=160, story_id=43538113, score=340, time=1743445683, title='Honey has now lost 4M Chrome users after shady tactics were revealed', url='https://9to5google.com/2025/03/31/honey-extension-users-dropped-chrome-march-2025/')\n",
      "{'story_id': 43536146, 'title': 'MLB says Yankees\\' new \"torpedo bats\" are legal and likely coming', 'url': 'https://thelibertyline.com/2025/03/30/yankees-new-torpedo-bat/', 'time': 1743434823, 'submitter': 'cf100clunk', 'score': 180, 'descendant_count': 272}\n",
      "HNStory(submitter='cf100clunk', descendant_count=272, story_id=43536146, score=180, time=1743434823, title='MLB says Yankees\\' new \"torpedo bats\" are legal and likely coming', url='https://thelibertyline.com/2025/03/30/yankees-new-torpedo-bat/')\n",
      "{'story_id': 43535943, 'title': 'Turso SQLite Offline Sync Public Beta', 'url': 'https://turso.tech/blog/turso-offline-sync-public-beta', 'time': 1743433839, 'submitter': 'charlieirish', 'score': 148, 'descendant_count': 52}\n",
      "HNStory(submitter='charlieirish', descendant_count=52, story_id=43535943, score=148, time=1743433839, title='Turso SQLite Offline Sync Public Beta', url='https://turso.tech/blog/turso-offline-sync-public-beta')\n",
      "{'story_id': 43535688, 'title': 'It’s not mold, it’s calcium lactate (2018)', 'url': 'https://www.thephcheese.com/theres-white-stuff-growing-on-your-cheese-that-isnt-mold', 'time': 1743432582, 'submitter': 'ilikepi', 'score': 299, 'descendant_count': 184}\n",
      "HNStory(submitter='ilikepi', descendant_count=184, story_id=43535688, score=299, time=1743432582, title='It’s not mold, it’s calcium lactate (2018)', url='https://www.thephcheese.com/theres-white-stuff-growing-on-your-cheese-that-isnt-mold')\n",
      "{'story_id': 43533362, 'title': 'The demoscene as a UNESCO heritage in Sweden', 'url': 'https://www.goto80.com/the-demoscene-as-a-unesco-heritage-in-sweden', 'time': 1743417597, 'submitter': 'robin_reala', 'score': 503, 'descendant_count': 66}\n",
      "HNStory(submitter='robin_reala', descendant_count=66, story_id=43533362, score=503, time=1743417597, title='The demoscene as a UNESCO heritage in Sweden', url='https://www.goto80.com/the-demoscene-as-a-unesco-heritage-in-sweden')\n",
      "{'story_id': 43515622, 'title': 'Show HN: I made a little puzzle game about a rogue chess knight', 'url': 'https://knightride.rakhim.org/', 'time': 1743256973, 'submitter': 'freetonik', 'score': 61, 'descendant_count': 13}\n",
      "HNStory(submitter='freetonik', descendant_count=13, story_id=43515622, score=61, time=1743256973, title='Show HN: I made a little puzzle game about a rogue chess knight', url='https://knightride.rakhim.org/')\n",
      "{'story_id': 43511529, 'title': 'The Guardian flourishes without a paywall', 'url': 'https://nymag.com/intelligencer/article/how-the-guardian-us-flourishes-without-a-paywall.html', 'time': 1743208287, 'submitter': 'bookofjoe', 'score': 78, 'descendant_count': 28}\n",
      "HNStory(submitter='bookofjoe', descendant_count=28, story_id=43511529, score=78, time=1743208287, title='The Guardian flourishes without a paywall', url='https://nymag.com/intelligencer/article/how-the-guardian-us-flourishes-without-a-paywall.html')\n"
     ]
    }
   ],
   "source": [
    "cursor = db.execute(\"SELECT * FROM hn WHERE score > ? ORDER BY time DESC LIMIT 10;\", (0,))\n",
    "for r in cursor:\n",
    "    print(dict(r))\n",
    "    print(HNStory(**dict(r)))"
   ]
  },
  {
   "cell_type": "code",
   "execution_count": null,
   "id": "835d1691-1ba4-4ebe-a7f7-82545b5b03ae",
   "metadata": {},
   "outputs": [],
   "source": [
    "db.close()"
   ]
  },
  {
   "cell_type": "markdown",
   "id": "d8db2ada-d083-47ee-90e4-734993eb5389",
   "metadata": {},
   "source": [
    "# Text Embedding and Retrieval"
   ]
  },
  {
   "cell_type": "code",
   "execution_count": null,
   "id": "ae9b7e58-b271-4e17-b114-46129c5d9709",
   "metadata": {},
   "outputs": [],
   "source": [
    "%pip install sqlite-vec"
   ]
  },
  {
   "cell_type": "code",
   "execution_count": null,
   "id": "6caa6f60-728b-43d2-a3c4-4e2d3b66a359",
   "metadata": {},
   "outputs": [],
   "source": [
    "%pip install sentence-transformers"
   ]
  },
  {
   "cell_type": "code",
   "execution_count": 14,
   "id": "d1b57297-8adb-4972-92ca-744f79170986",
   "metadata": {},
   "outputs": [],
   "source": [
    "import sqlite_vec\n",
    "db.enable_load_extension(True)\n",
    "sqlite_vec.load(db)\n",
    "db.enable_load_extension(False)"
   ]
  },
  {
   "cell_type": "code",
   "execution_count": 15,
   "id": "fbda0fdf-1051-4d26-ba05-5f9966c81dba",
   "metadata": {},
   "outputs": [
    {
     "name": "stderr",
     "output_type": "stream",
     "text": [
      "E:\\Applications\\miniconda3\\envs\\default\\lib\\site-packages\\huggingface_hub\\file_download.py:1132: FutureWarning: `resume_download` is deprecated and will be removed in version 1.0.0. Downloads always resume when possible. If you want to force a new download, use `force_download=True`.\n",
      "  warnings.warn(\n"
     ]
    },
    {
     "name": "stdout",
     "output_type": "stream",
     "text": [
      "{'vec_length(?)': 64}\n"
     ]
    }
   ],
   "source": [
    "import numpy\n",
    "from sentence_transformers import SentenceTransformer\n",
    "\n",
    "# NOTE:\n",
    "# If we convert embeddings into numpy arrays we don't need to use the serialize_float32 method here:\n",
    "#from sqlite_vec import serialize_float32\n",
    "#result = db.execute('select vec_length(?)', [serialize_float32([0.1, 0.2, 0.3, 0.4])])\n",
    "\n",
    "# Love Matryoshka embeddings: https://huggingface.co/blog/matryoshka\n",
    "EMBEDDING_DIM = 64\n",
    "model = SentenceTransformer('tomaarsen/mpnet-base-nli-matryoshka', truncate_dim=EMBEDDING_DIM)\n",
    "embeddings = model.encode([\"Test, 1, 2, 3.\", \"This is only a test.\", \"This is a test.\"])\n",
    "for r in db.execute(\"SELECT vec_length(?)\", [embeddings[0].astype(numpy.float32)]):\n",
    "    print(dict(r))"
   ]
  },
  {
   "cell_type": "code",
   "execution_count": 38,
   "id": "b7c16921-d010-4533-aad9-b3de9e119b86",
   "metadata": {},
   "outputs": [
    {
     "ename": "OperationalError",
     "evalue": "table story_embeddings already exists",
     "output_type": "error",
     "traceback": [
      "\u001b[1;31m---------------------------------------------------------------------------\u001b[0m",
      "\u001b[1;31mOperationalError\u001b[0m                          Traceback (most recent call last)",
      "Cell \u001b[1;32mIn[38], line 2\u001b[0m\n\u001b[0;32m      1\u001b[0m \u001b[38;5;66;03m# Create a new table for the embeddings so we can search and join.\u001b[39;00m\n\u001b[1;32m----> 2\u001b[0m \u001b[38;5;28mprint\u001b[39m(\u001b[38;5;28mdict\u001b[39m(\u001b[43mdb\u001b[49m\u001b[38;5;241;43m.\u001b[39;49m\u001b[43mexecute\u001b[49m\u001b[43m(\u001b[49m\u001b[38;5;124;43mf\u001b[39;49m\u001b[38;5;124;43m\"\u001b[39;49m\u001b[38;5;124;43mCREATE VIRTUAL TABLE story_embeddings USING vec0(embedding float[\u001b[39;49m\u001b[38;5;132;43;01m{\u001b[39;49;00m\u001b[43mEMBEDDING_DIM\u001b[49m\u001b[38;5;132;43;01m}\u001b[39;49;00m\u001b[38;5;124;43m])\u001b[39;49m\u001b[38;5;124;43m\"\u001b[39;49m\u001b[43m)\u001b[49m))\n\u001b[0;32m      3\u001b[0m db\u001b[38;5;241m.\u001b[39mcommit()\n",
      "\u001b[1;31mOperationalError\u001b[0m: table story_embeddings already exists"
     ]
    }
   ],
   "source": [
    "# Create a new table for the embeddings so we can search and join.\n",
    "print(dict(db.execute(f\"CREATE VIRTUAL TABLE IF NOT EXISTS story_embeddings USING vec0(embedding float[{EMBEDDING_DIM}])\")))\n",
    "db.commit()"
   ]
  },
  {
   "cell_type": "code",
   "execution_count": 39,
   "id": "359ae420-28c7-4587-969b-744bd7a0078f",
   "metadata": {},
   "outputs": [
    {
     "data": {
      "text/plain": [
       "[{'story_id': 43511529, 'title': 'The Guardian flourishes without a paywall'},\n",
       " {'story_id': 43515622,\n",
       "  'title': 'Show HN: I made a little puzzle game about a rogue chess knight'},\n",
       " {'story_id': 43533362,\n",
       "  'title': 'The demoscene as a UNESCO heritage in Sweden'},\n",
       " {'story_id': 43535688, 'title': 'It’s not mold, it’s calcium lactate (2018)'},\n",
       " {'story_id': 43535943, 'title': 'Turso SQLite Offline Sync Public Beta'},\n",
       " {'story_id': 43536146,\n",
       "  'title': 'MLB says Yankees\\' new \"torpedo bats\" are legal and likely coming'},\n",
       " {'story_id': 43538113,\n",
       "  'title': 'Honey has now lost 4M Chrome users after shady tactics were revealed'},\n",
       " {'story_id': 43538192, 'title': \"Notes on the Pentium's Microcode Circuitry\"},\n",
       " {'story_id': 43538919,\n",
       "  'title': 'JEP Draft: Prepare to Make Final Mean Final'},\n",
       " {'story_id': 43539585, 'title': 'Go Optimization Guide'}]"
      ]
     },
     "execution_count": 39,
     "metadata": {},
     "output_type": "execute_result"
    }
   ],
   "source": [
    "[dict(r) for r in db.execute(\"SELECT story_id, TITLE FROM hn WHERE story_id NOT IN (SELECT rowid FROM story_embeddings) LIMIT 10\")]"
   ]
  },
  {
   "cell_type": "code",
   "execution_count": 41,
   "id": "087e1899-4bab-4cf5-88d3-7862e97246a3",
   "metadata": {},
   "outputs": [],
   "source": [
    "# Populate all the stories\n",
    "with db:\n",
    "    # We should do this in batches.\n",
    "    results_processed = 1\n",
    "    while results_processed > 0:\n",
    "        cursor = db.execute(\"SELECT story_id, title FROM hn WHERE story_id NOT IN (SELECT rowid FROM story_embeddings) LIMIT 10\")\n",
    "        batch_ids = list()\n",
    "        batch_headlines = list()\n",
    "        batch_to_insert = list()\n",
    "        for row in cursor:\n",
    "            batch_ids.append(row['story_id'])\n",
    "            batch_headlines.append(row['title'])\n",
    "        embeddings = model.encode(batch_headlines)\n",
    "        for idx, story_id in enumerate(batch_ids):\n",
    "            batch_to_insert.append((story_id, embeddings[idx].astype(numpy.float32)))\n",
    "        db.executemany(\"INSERT INTO story_embeddings(rowid, embedding) VALUES (?, ?)\", batch_to_insert)\n",
    "        results_processed = len(batch_to_insert)\n",
    "    db.commit()\n",
    "\n",
    "\"\"\"\n",
    "items = [\n",
    "    (1, [0.1, 0.1, 0.1, 0.1]),\n",
    "    (2, [0.2, 0.2, 0.2, 0.2]),\n",
    "    (3, [0.3, 0.3, 0.3, 0.3]),\n",
    "    (4, [0.4, 0.4, 0.4, 0.4]),\n",
    "    (5, [0.5, 0.5, 0.5, 0.5]),\n",
    "]\n",
    "query = [0.3, 0.3, 0.3, 0.3]\n",
    "\"\"\""
   ]
  },
  {
   "cell_type": "code",
   "execution_count": 62,
   "id": "037c4ef7-e55b-44c9-ae95-cf4036ff17ac",
   "metadata": {},
   "outputs": [
    {
     "name": "stdout",
     "output_type": "stream",
     "text": [
      "43511529\n",
      "(0.09066823869943619, 0.17725828289985657, -0.005500168539583683, -0.10034725815057755, 0.0164562426507473, 0.06880630552768707, 0.12393510341644287, -0.18441611528396606, 0.12493689358234406, -0.06061761826276779, 0.13532033562660217, 0.015297234058380127, -0.15693846344947815, 0.1349973976612091, -0.1638118326663971, 0.048728156834840775, 0.006766803562641144, 0.035836007446050644, -0.06102864071726799, -0.012957364320755005, -0.2449144423007965, -0.009473470039665699, -0.09948713332414627, -0.202688530087471, 0.31311124563217163, 0.01912880316376686, 0.2371511161327362, -0.12405090034008026, 0.026695838198065758, 0.02410670556128025, -0.2176799327135086, -0.018366370350122452, 0.0028383596800267696, 0.10722251236438751, 0.045345406979322433, -0.03827964514493942, 0.019169138744473457, 0.06108715385198593, -0.0452619306743145, -0.13730375468730927, -0.10532908141613007, 0.05116068571805954, -0.019994452595710754, 0.1372452676296234, -0.03213982656598091, -0.012232443317770958, -0.21799898147583008, 0.01648748852312565, -0.13072867691516876, 0.05978599935770035, -0.08086621761322021, 0.0362498015165329, -0.05906512588262558, -0.006322429981082678, -0.10474888235330582, -0.1750500202178955, -0.10376220941543579, 0.011828030459582806, -0.1276954561471939, 0.037730131298303604, 0.1397731751203537, 0.23699994385242462, 0.05344287306070328, -0.04681459069252014)\n"
     ]
    }
   ],
   "source": [
    "import struct\n",
    "def deserialize_float32(vector, dimensionality: int):\n",
    "    return struct.unpack(\"%sf\" % dimensionality, vector)\n",
    "\n",
    "for r in db.execute(\"SELECT * FROM story_embeddings LIMIT 5\"):\n",
    "    print(r['rowid'])\n",
    "    print(deserialize_float32(r['embedding'], EMBEDDING_DIM))\n",
    "    break"
   ]
  },
  {
   "cell_type": "code",
   "execution_count": 56,
   "id": "456c16cc-ecfe-4cac-b3a1-30014b47a029",
   "metadata": {},
   "outputs": [
    {
     "name": "stdout",
     "output_type": "stream",
     "text": [
      "{'story_id': 43515622, 'title': 'Show HN: I made a little puzzle game about a rogue chess knight'}\n",
      "{'story_id': 43535688, 'title': 'It’s not mold, it’s calcium lactate (2018)'}\n",
      "{'story_id': 43538192, 'title': \"Notes on the Pentium's Microcode Circuitry\"}\n",
      "{'story_id': 43538919, 'title': 'JEP Draft: Prepare to Make Final Mean Final'}\n",
      "{'story_id': 43539585, 'title': 'Go Optimization Guide'}\n"
     ]
    }
   ],
   "source": [
    "rows = db.execute(\n",
    "    \"\"\"\n",
    "    SELECT story_id, title FROM hn WHERE story_id IN (\n",
    "      SELECT\n",
    "        rowid\n",
    "      FROM story_embeddings\n",
    "      WHERE embedding MATCH ?\n",
    "      ORDER BY distance ASC\n",
    "      LIMIT 5\n",
    "    )\n",
    "    \"\"\",\n",
    "    #[serialize_f32(model([\"Embedding models.\"])[0])],\n",
    "    ((model.encode([\"Microprocessors and embeddings.\"])[0]),),\n",
    ").fetchall()\n",
    "for r in rows:\n",
    "    print(dict(r))"
   ]
  },
  {
   "cell_type": "code",
   "execution_count": 65,
   "id": "613adde6-148c-4881-9a1d-0a601f898d6a",
   "metadata": {},
   "outputs": [
    {
     "name": "stdout",
     "output_type": "stream",
     "text": [
      "{'story_id': 43538192, 'title': \"Notes on the Pentium's Microcode Circuitry\", 'distance': 0.7702715992927551}\n",
      "{'story_id': 43515622, 'title': 'Show HN: I made a little puzzle game about a rogue chess knight', 'distance': 1.230692982673645}\n",
      "{'story_id': 43535688, 'title': 'It’s not mold, it’s calcium lactate (2018)', 'distance': 1.3278286457061768}\n",
      "{'story_id': 43539585, 'title': 'Go Optimization Guide', 'distance': 1.3478636741638184}\n",
      "{'story_id': 43538919, 'title': 'JEP Draft: Prepare to Make Final Mean Final', 'distance': 1.4004002809524536}\n"
     ]
    }
   ],
   "source": [
    "rows = db.execute(\n",
    "    \"\"\"\n",
    "    SELECT hn.story_id, hn.title, story_embeddings.distance \n",
    "    FROM hn \n",
    "    JOIN story_embeddings on hn.story_id = story_embeddings.rowid \n",
    "    WHERE embedding MATCH ? AND k=5\n",
    "    ORDER BY distance ASC\n",
    "    LIMIT 5\n",
    "    \"\"\",\n",
    "    #[serialize_f32(model([\"Embedding models.\"])[0])],\n",
    "    ((model.encode([\"Microprocessors and embeddings.\"])[0]),),\n",
    ").fetchall()\n",
    "for r in rows:\n",
    "    print(dict(r))"
   ]
  },
  {
   "cell_type": "code",
   "execution_count": null,
   "id": "fe4a023c-c933-4f23-933a-c081778af11b",
   "metadata": {},
   "outputs": [],
   "source": []
  }
 ],
 "metadata": {
  "kernelspec": {
   "display_name": "Python 3 (ipykernel)",
   "language": "python",
   "name": "python3"
  },
  "language_info": {
   "codemirror_mode": {
    "name": "ipython",
    "version": 3
   },
   "file_extension": ".py",
   "mimetype": "text/x-python",
   "name": "python",
   "nbconvert_exporter": "python",
   "pygments_lexer": "ipython3",
   "version": "3.10.13"
  }
 },
 "nbformat": 4,
 "nbformat_minor": 5
}
